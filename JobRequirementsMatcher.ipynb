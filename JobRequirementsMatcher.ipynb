{
  "nbformat": 4,
  "nbformat_minor": 0,
  "metadata": {
    "colab": {
      "provenance": [],
      "authorship_tag": "ABX9TyPDlzUyMjBPXbj2LyoA80uq",
      "include_colab_link": true
    },
    "kernelspec": {
      "name": "python3",
      "display_name": "Python 3"
    },
    "language_info": {
      "name": "python"
    }
  },
  "cells": [
    {
      "cell_type": "markdown",
      "metadata": {
        "id": "view-in-github",
        "colab_type": "text"
      },
      "source": [
        "<a href=\"https://colab.research.google.com/github/Visels/ResumeRanker/blob/main/JobRequirementsMatcher.ipynb\" target=\"_parent\"><img src=\"https://colab.research.google.com/assets/colab-badge.svg\" alt=\"Open In Colab\"/></a>"
      ]
    },
    {
      "cell_type": "markdown",
      "source": [
        "##Importing necessary packages"
      ],
      "metadata": {
        "id": "oYyanlI32VUn"
      }
    },
    {
      "cell_type": "code",
      "source": [
        "from sklearn.feature_extraction.text import CountVectorizer\n",
        "from scipy.spatial import distance"
      ],
      "metadata": {
        "id": "1UnxtgTI2NtF"
      },
      "execution_count": 1,
      "outputs": []
    },
    {
      "cell_type": "markdown",
      "source": [
        "##Taking the job requirements and the skills parsed from resume"
      ],
      "metadata": {
        "id": "X_jPBIKv2dyp"
      }
    },
    {
      "cell_type": "code",
      "source": [
        "requirements = 'programming coding python django mysql apache communication-skills leadership'\n",
        "parsed_skills = 'data science python mysql liquibase databases servers leadership decision-making'"
      ],
      "metadata": {
        "id": "PtlnZtTF1dfv"
      },
      "execution_count": 2,
      "outputs": []
    },
    {
      "cell_type": "markdown",
      "source": [
        "##Calculating the cosine distance between the texts to obtain similarity"
      ],
      "metadata": {
        "id": "1IZUiLf12kzG"
      }
    },
    {
      "cell_type": "code",
      "execution_count": 3,
      "metadata": {
        "id": "Um56pVBp3zUO"
      },
      "outputs": [],
      "source": [
        "def cosine_distance_countvectorizer_method(s1, s2):\n",
        "    \n",
        "    # sentences to list\n",
        "    allsentences = [s1 , s2]\n",
        "    \n",
        "    # text to vector\n",
        "    vectorizer = CountVectorizer()\n",
        "    all_sentences_to_vector = vectorizer.fit_transform(allsentences)\n",
        "    text_to_vector_v1 = all_sentences_to_vector.toarray()[0].tolist()\n",
        "    text_to_vector_v2 = all_sentences_to_vector.toarray()[1].tolist()\n",
        "    \n",
        "    # distance of similarity\n",
        "    cosine = distance.cosine(text_to_vector_v1, text_to_vector_v2)\n",
        "    print('Candidate skills matching to requirements',round((1-cosine)*100,2),'%')\n",
        "    return cosine"
      ]
    },
    {
      "cell_type": "code",
      "source": [
        "class RequirementsComparator():\n",
        "\n",
        "  def __init__(self):\n",
        "    pass\n",
        "\n",
        "  def calculateScore(self, s1,s2):\n",
        "        # sentences to list\n",
        "    allsentences = [s1 , s2]\n",
        "    \n",
        "    # text to vector\n",
        "    vectorizer = CountVectorizer()\n",
        "    all_sentences_to_vector = vectorizer.fit_transform(allsentences)\n",
        "    text_to_vector_v1 = all_sentences_to_vector.toarray()[0].tolist()\n",
        "    text_to_vector_v2 = all_sentences_to_vector.toarray()[1].tolist()\n",
        "    \n",
        "    # distance of similarity\n",
        "    cosine = distance.cosine(text_to_vector_v1, text_to_vector_v2)\n",
        "    print('Candidate skills matching to requirements',round((1-cosine)*100,2),'%')\n",
        "    return cosine\n"
      ],
      "metadata": {
        "id": "-DTokIqdL_zv"
      },
      "execution_count": 4,
      "outputs": []
    },
    {
      "cell_type": "code",
      "source": [
        "cosine_distance_countvectorizer_method(requirements , parsed_skills)"
      ],
      "metadata": {
        "colab": {
          "base_uri": "https://localhost:8080/"
        },
        "id": "ST6o-vVJ1aiW",
        "outputId": "5d6ca533-8e75-4ffc-92d7-8737a1b7ca7f"
      },
      "execution_count": 4,
      "outputs": [
        {
          "output_type": "stream",
          "name": "stdout",
          "text": [
            "Candidate skills matching to requirements 31.62 %\n"
          ]
        },
        {
          "output_type": "execute_result",
          "data": {
            "text/plain": [
              "0.683772233983162"
            ]
          },
          "metadata": {},
          "execution_count": 4
        }
      ]
    },
    {
      "cell_type": "markdown",
      "source": [
        "##Calculating and matching the Experience\n"
      ],
      "metadata": {
        "id": "2lpMngD63YSR"
      }
    },
    {
      "cell_type": "code",
      "source": [
        "def experience_difference(job_requirements_experience, parsed_experience):\n",
        "  pass"
      ],
      "metadata": {
        "id": "bZvP0Jbo3fn8"
      },
      "execution_count": 5,
      "outputs": []
    },
    {
      "cell_type": "markdown",
      "source": [
        "##Saving the model to a pickle file"
      ],
      "metadata": {
        "id": "3yDk3-oaLMjZ"
      }
    },
    {
      "cell_type": "code",
      "source": [
        "import pickle\n",
        "\n",
        "instance = RequirementsComparator()\n",
        "\n",
        "with open(\"requirementsMatcher.pickle\", 'wb') as f:\n",
        "  pickle.dump(instance, f)"
      ],
      "metadata": {
        "id": "onvCi8PgLPbp"
      },
      "execution_count": 5,
      "outputs": []
    }
  ]
}